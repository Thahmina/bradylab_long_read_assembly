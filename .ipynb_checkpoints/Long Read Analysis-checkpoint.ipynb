{
 "cells": [
  {
   "cell_type": "markdown",
   "metadata": {},
   "source": [
    "# Long Read Analysis:"
   ]
  },
  {
   "cell_type": "markdown",
   "metadata": {},
   "source": [
    "#### Assembly Stage:\n",
    "##### Overall journey and basic instructions in how to get started with using  Canu, Falcon and Metaspades."
   ]
  },
  {
   "cell_type": "markdown",
   "metadata": {},
   "source": [
    "## Canu, how it works-"
   ]
  },
  {
   "cell_type": "markdown",
   "metadata": {},
   "source": [
    "### Pipeline:\n",
    "\n",
    "The canu pipeline, that is, what it actually computes, comprises of computing overlaps and processing the overlaps to some result. Each of the three tasks (read correction, read trimming and unitig construction) follow the same pattern:\n",
    "\n",
    "1. Load reads into the read database, gkpStore.\n",
    "2. Compute k-mer counts in preparation for the overlap computation.\n",
    "3. Compute overlaps.\n",
    "4. Load overlaps into the overlap database, ovlStore.\n",
    "5. Do something interesting with the reads and overlaps.\n",
    "\n",
    "    -The read correction task will replace the original noisy read sequences with consensus sequences computed from overlapping reads.\n",
    "    \n",
    "    -The read trimming task will use overlapping reads to decide what regions of each read are high-quality sequence, and what regions should be trimmed. \n",
    "    \n",
    "    -After trimming, the single largest high-quality chunk of sequence is retained.\n",
    "    \n",
    "    -The unitig construction task finds sets of overlaps that are consistent, and uses those to place reads into a multialignment layout. \n",
    "    \n",
    "    -The layout is then used to generate a consensus sequence for the unitig."
   ]
  },
  {
   "cell_type": "markdown",
   "metadata": {},
   "source": [
    "## Canu, usage-"
   ]
  },
  {
   "cell_type": "markdown",
   "metadata": {},
   "source": [
    "## Activate conda environment:"
   ]
  },
  {
   "cell_type": "code",
   "execution_count": null,
   "metadata": {},
   "outputs": [],
   "source": [
    "conda activate long-read-assembly # activate "
   ]
  },
  {
   "cell_type": "markdown",
   "metadata": {},
   "source": [
    "If the above doesn't work, try the following:"
   ]
  },
  {
   "cell_type": "code",
   "execution_count": null,
   "metadata": {},
   "outputs": [],
   "source": [
    "conda activate long-read-assembly # activate \n",
    "\n",
    "[tali01@bradysaurus ~]$ conda activate /home/tali01/anaconda3/envs/long-read-assembly/ \n",
    "(long-read-assembly) [tali01@bradysaurus ~]$"
   ]
  },
  {
   "cell_type": "markdown",
   "metadata": {},
   "source": [
    "## Test tools in conda environment:"
   ]
  },
  {
   "cell_type": "code",
   "execution_count": null,
   "metadata": {},
   "outputs": [],
   "source": [
    "(long-read-assembly) [tali01@bradysaurus ~]$  canu ## call canu\n",
    "\n",
    "usage: canu [-correct | -trim | -assemble | -trim-assemble] \\\n",
    "            [-s <assembly-specifications-file>] \\\n",
    "             -p <assembly-prefix> \\\n",
    "             -d <assembly-directory> \\\n",
    "             genomeSize=<number>[g|m|k] \\\n",
    "             errorRate=0.X \\\n",
    "            [other-options] \\\n",
    "            [-pacbio-raw | -pacbio-corrected | -nanopore-raw | -nanopore-corrected] *fastq"
   ]
  },
  {
   "cell_type": "markdown",
   "metadata": {},
   "source": [
    "## Run tools in conda environment"
   ]
  },
  {
   "cell_type": "code",
   "execution_count": null,
   "metadata": {},
   "outputs": [],
   "source": [
    "nohup canu  -p ecoli -d /nasdata/Neev/simlord/sim/canu_test_output/ecoli-pacbio  genomeSize=4.8m gnuplotTested=true  -pacbio-raw /nasdata/Neev/simlord/tool_sample_data/canu/pacbio.fastq > canu_conda_sample_nohup.out &"
   ]
  },
  {
   "cell_type": "markdown",
   "metadata": {},
   "source": [
    "-The -p option, to set the file name prefix of intermediate and output files, is mandatory. \n",
    "\n",
    "-If -d is not supplied, canu will run in the current directory, otherwise, Canu will create the assembly-directory and run in that directory. It is _not_ possible to run two different assemblies in the same directory.\n",
    "\n",
    "-One parameter is required: the genomeSize (in bases, with common SI prefixes allowed, for example, 4.7m or 2.8g).\n",
    "The genome size estimate is used to decide how many reads to correct (via the corOutCoverage parameter) and how sensitive the mhap overlapper should be (via the mhapSensitivity parameter). It also impacts some logging, in particular, reports of NG50 sizes.\n",
    "\n"
   ]
  },
  {
   "cell_type": "code",
   "execution_count": null,
   "metadata": {},
   "outputs": [],
   "source": [
    " nohup canu -p single_cosmid -d /nasdata/Neev/simlord/canu_test_output/single_cosmid genomeSize=4.8m gnuplotTested=true -pacbio-raw /nasdata/Neev/simlord/sim/sim_cosmids/single_cosmid_SIM.fastq > canu_conda_single_nohup.out"
   ]
  },
  {
   "cell_type": "code",
   "execution_count": null,
   "metadata": {},
   "outputs": [],
   "source": [
    "nohup canu -p 3_cosmid -d /nasdata/Neev/simlord/canu_test_output/3_cosmids genomeSize=4.8m gnuplotTested=true -pacbio-raw /nasdata/Neev/simlord/sim/sim_cosmids/3_cosmids.fastq.fastq > canu_conda_three_nohup.out"
   ]
  },
  {
   "cell_type": "code",
   "execution_count": null,
   "metadata": {},
   "outputs": [],
   "source": [
    " nohup canu -p insert_cosmid -d /nasdata/Neev/simlord/canu_test_output/insert_cosmid genomeSize=4.8m gnuplotTested=true -pacbio-raw /nasdata/Neev/simlord/sim/sim_cosmids/all_reads_clipped_vector.fq > canu_conda_insert_nohup.out"
   ]
  },
  {
   "cell_type": "markdown",
   "metadata": {},
   "source": [
    "### Other options"
   ]
  },
  {
   "cell_type": "code",
   "execution_count": null,
   "metadata": {},
   "outputs": [],
   "source": []
  },
  {
   "cell_type": "markdown",
   "metadata": {},
   "source": [
    "## Parallelizing tool runs in conda environment"
   ]
  },
  {
   "cell_type": "code",
   "execution_count": null,
   "metadata": {},
   "outputs": [],
   "source": [
    "(long-read-assembly) [tali01@bradysaurus sim_cosmids]$ ls *.fastq\n",
    "3_cosmids.fastq  all_reads_clipped_vector.fastq  single_cosmid_SIM.fastq"
   ]
  },
  {
   "cell_type": "code",
   "execution_count": null,
   "metadata": {},
   "outputs": [],
   "source": [
    "(long-read-assembly) [tali01@bradysaurus sim_cosmids]$ ls *fastq | awk 'BEGIN {FS=\".fastq\"} ; {print \"nohup canu  -p \"$1\" -d /nasdata/Neev/simlord/canu_test_output/canu_test_parallelize/\"$1\"  genomeSize=4.8m gnuplotTested=true  -pacbio-raw /nasdata/Neev/simlord/sim/sim_cosmids/\"$0\" > /home/tali01/parallelize/canu_conda_\"$1\"_nohup.out &\"}'\n",
    "nohup canu  -p 3_cosmids -d /nasdata/Neev/simlord/canu_test_output/canu_test_parallelize/3_cosmids  genomeSize=4.8m gnuplotTested=true  -pacbio-raw /nasdata/Neev/simlord/sim/sim_cosmids/3_cosmids.fastq > /home/tali01/parallelize/canu_conda_3_cosmids_nohup.out &\n",
    "nohup canu  -p all_reads_clipped_vector -d /nasdata/Neev/simlord/canu_test_output/canu_test_parallelize/all_reads_clipped_vector  genomeSize=4.8m gnuplotTested=true  -pacbio-raw /nasdata/Neev/simlord/sim/sim_cosmids/all_reads_clipped_vector.fastq > /home/tali01/parallelize/canu_conda_all_reads_clipped_vector_nohup.out &\n",
    "nohup canu  -p single_cosmid_SIM -d /nasdata/Neev/simlord/canu_test_output/canu_test_parallelize/single_cosmid_SIM  genomeSize=4.8m gnuplotTested=true  -pacbio-raw /nasdata/Neev/simlord/sim/sim_cosmids/single_cosmid_SIM.fastq > /home/tali01/parallelize/canu_conda_single_cosmid_SIM_nohup.out &"
   ]
  },
  {
   "cell_type": "code",
   "execution_count": null,
   "metadata": {},
   "outputs": [],
   "source": [
    "ls *fastq | awk 'BEGIN {FS=\".fastq\"} ; {print \"nohup canu  -p \"$1\" -d /nasdata/Neev/simlord/canu_test_output/canu_test_parallelize/\"$1\"  genomeSize=4.8m gnuplotTested=true  -pacbio-raw /nasdata/Neev/simlord/sim/sim_cosmids/\"$0\" > /home/tali01/parallelize/canu_conda_\"$1\"_nohup.out &\"}' > sim_parallel\n",
    "(long-read-assembly) [tali01@bradysaurus sim_cosmids]$ sh sim_parallel"
   ]
  },
  {
   "cell_type": "markdown",
   "metadata": {},
   "source": [
    "<h2 style='padding: 10px'>Runtimes</h2><table class='table table-striped'> <thead> <tr><th>Tool</th>  <th>Sample Data</th>  <th>Single_cosmid Runtime (3.8M) Vector Included</th> <th>3_cosmids Runtime (13M) Vector Included</th>  <th>3_cosmids Runtime (11M) Vector Excluded</th> <th> Total</th>   </tr> </thead><thead> <tr> <th>Canu</th> <th>ecoli_dataset Runtime:  18:02:25 -18:16:11 (13 min 56 sec)</th> <th>12:49:39- 12:54:11  ( 4 minutes 32 seconds)</th>  <th>13:55:36- 13:57:32 (3 min 8 secs)</th> <th>14:31:21-14:37:19 (6 minutes 40 secs)</th> <th>(14min 30 secs) (27.8M)</th> </tr> </thead> <tbody> <tr> <th scope='row'>Canu (parallelization)</th> <td></td> <td>17:11:50 - 17:17:02 (5min 12 secs)</td> <td>17:11:50 -17:19:09 (7min 19 secs)</td> <td>17:11:54 -  17:18:44 (6min 50secs) </td> <th>(7min 19 secs) (27.8M)</th><tr></tr><th "
   ]
  },
  {
   "cell_type": "markdown",
   "metadata": {},
   "source": [
    "## Canu, outputs-\n"
   ]
  },
  {
   "cell_type": "markdown",
   "metadata": {},
   "source": [
    "<h2 style='padding: 10px'>Test Outcomes</h2><table class='table table-striped'> <thead> <tr><th>Outputs</th>  <th>Sample Data</th>  <th>Single_cosmid Runtime (3.8M) Vector Included</th> <th>3_cosmids Runtime (13M) Vector Included</th>  <th>3_cosmids Runtime (11M) Vector Excluded</th> <th> Total</th>   </tr> </thead><thead> <tr> <th></th> <th>ecoli_dataset Runtime:  18:02:25 -18:16:11 (13 min 56 sec)</th> <th>12:49:39- 12:54:11  ( 4 minutes 32 seconds)</th>  <th>13:55:36- 13:57:32 (3 min 8 secs)</th> <th>14:31:21-14:37:19 (6 minutes 40 secs)</th> <th>(14min 30 secs) (27.8M)</th> </tr> </thead> <tbody> <tr> <th scope='row'>Canu (parallelization)</th> <td></td> <td>17:11:50 - 17:17:02 (5min 12 secs)</td> <td>17:11:50 -17:19:09 (7min 19 secs)</td> <td>17:11:54 -  17:18:44 (6min 50secs) </td> <th>(7min 19 secs) (27.8M)</th><tr></tr><th \n",
    "\n",
    "\n",
    "READS\n",
    "\n",
    "<prefix>.correctedReads.fasta.gz\n",
    "The reads after correction.\n",
    "<prefix>.trimmedReads.fasta.gz\n",
    "The corrected reads after overlap based trimming.\n",
    "SEQUENCE\n",
    "\n",
    "<prefix>.contigs.fasta\n",
    "Everything which could be assembled and is the primary assembly, including both unique and repetitive elements.\n",
    "<prefix>.unitigs.fasta\n",
    "Contigs, split at alternate paths in the graph.\n",
    "<prefix>.unassembled.fasta\n",
    "Reads and low-coverage contigs which could not be incorporated into the primary assembly.\n",
    "The header line for each sequence provides some metadata on the sequence.:\n",
    "\n",
    ">tig######## len=<integer> reads=<integer> covStat=<float> gappedBases=<yes|no> class=<contig|bubble|unassm> suggestRepeat=<yes|no> suggestCircular=<yes|no>\n",
    "\n",
    "len\n",
    "   Length of the sequence, in bp.\n",
    "\n",
    "reads\n",
    "   Number of reads used to form the contig.\n",
    "\n",
    "covStat\n",
    "   The log of the ratio of the contig being unique versus being two-copy, based on the read arrival rate.  Positive values indicate more likely to be unique, while negative values indicate more likely to be repetitive.  See `Footnote 24 <http://science.sciencemag.org/content/287/5461/2196.full#ref-24>`_ in `Myers et al., A Whole-Genome Assembly of Drosophila <http://science.sciencemag.org/content/287/5461/2196.full>`_.\n",
    "\n",
    "gappedBases\n",
    "   If yes, the sequence includes all gaps in the multialignment.\n",
    "\n",
    "class\n",
    "   Type of sequence.  Unassembled sequences are primarily low-coverage sequences spanned by a single read.\n",
    "\n",
    "suggestRepeat\n",
    "   If yes, sequence was detected as a repeat based on graph topology or read overlaps to other sequences.\n",
    "\n",
    "suggestCircular\n",
    "   If yes, sequence is likely circular.  Not implemented.\n",
    "GRAPHS\n",
    "\n",
    "<prefix>.contigs.gfa\n",
    "Unused or ambiguous edges between contig sequences. The GFA format cannot represent partial overlaps between contigs (that is part of contig A overlaps with part of contig B). For more details see the discussion of general edges on the GFA2 page.\n",
    "<prefix>.unitigs.gfa\n",
    "Since the GFA format cannot represent partial overlaps, the contigs are split at all such overlap junctions into unitigs. The unitigs capture non-branching subsequences within the contigs and will break at any ambiguity (e.g. a haplotype switch).\n",
    "<prefix>.unitigs.bed\n",
    "The position of each unitig in a contig.\n",
    "METADATA\n",
    "\n",
    "The layout provides information on where each read ended up in the final assembly, including contig and positions. It also includes the consensus sequence for each contig.\n",
    "\n",
    "<prefix>.contigs.layout, <prefix>.unitigs.layout\n",
    "(undocumented)\n",
    "<prefix>.contigs.layout.readToTig, <prefix>.unitigs.layout.readToTig\n",
    "The position of each read in a contig (unitig).\n",
    "<prefix>.contigs.layout.tigInfo, <prefix>.unitigs.layout.tigInfo\n",
    "A list of the contigs (unitigs), lengths, coverage, number of reads and other metadata. Essentially the same information provided in the FASTA header line."
   ]
  }
 ],
 "metadata": {
  "kernelspec": {
   "display_name": "Python 3",
   "language": "python",
   "name": "python3"
  },
  "language_info": {
   "codemirror_mode": {
    "name": "ipython",
    "version": 3
   },
   "file_extension": ".py",
   "mimetype": "text/x-python",
   "name": "python",
   "nbconvert_exporter": "python",
   "pygments_lexer": "ipython3",
   "version": "3.7.1"
  }
 },
 "nbformat": 4,
 "nbformat_minor": 2
}
