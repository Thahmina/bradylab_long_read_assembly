{
 "cells": [
  {
   "cell_type": "markdown",
   "metadata": {},
   "source": [
    "# Long Read Analysis:"
   ]
  },
  {
   "cell_type": "markdown",
   "metadata": {},
   "source": [
    "## Activate conda environment:"
   ]
  },
  {
   "cell_type": "code",
   "execution_count": null,
   "metadata": {},
   "outputs": [],
   "source": [
    "conda activate long-read-assembly # activate "
   ]
  },
  {
   "cell_type": "markdown",
   "metadata": {},
   "source": [
    "If the above doesn't work, try the following:"
   ]
  },
  {
   "cell_type": "code",
   "execution_count": null,
   "metadata": {},
   "outputs": [],
   "source": [
    "conda activate long-read-assembly # activate \n",
    "\n",
    "[tali01@bradysaurus ~]$ conda activate /home/tali01/anaconda3/envs/long-read-assembly/ #ggg\n",
    "(long-read-assembly) [tali01@bradysaurus ~]$ # ss"
   ]
  },
  {
   "cell_type": "markdown",
   "metadata": {},
   "source": [
    "## Test tools in conda environment:"
   ]
  },
  {
   "cell_type": "code",
   "execution_count": null,
   "metadata": {},
   "outputs": [],
   "source": [
    "(long-read-assembly) [tali01@bradysaurus ~]$  canu ## call canu\n",
    "\n",
    "usage: canu [-correct | -trim | -assemble | -trim-assemble] \\\n",
    "            [-s <assembly-specifications-file>] \\\n",
    "             -p <assembly-prefix> \\\n",
    "             -d <assembly-directory> \\\n",
    "             genomeSize=<number>[g|m|k] \\\n",
    "             errorRate=0.X \\\n",
    "            [other-options] \\\n",
    "            [-pacbio-raw | -pacbio-corrected | -nanopore-raw | -nanopore-corrected] *fastq"
   ]
  },
  {
   "cell_type": "markdown",
   "metadata": {},
   "source": [
    "## Run tools in conda environment"
   ]
  },
  {
   "cell_type": "code",
   "execution_count": null,
   "metadata": {},
   "outputs": [],
   "source": [
    "nohup canu  -p ecoli -d /nasdata/Neev/simlord/sim/canu_test_output/ecoli-pacbio  genomeSize=4.8m gnuplotTested=true  -pacbio-raw /nasdata/Neev/simlord/tool_sample_data/canu/pacbio.fastq > canu_conda_sample_nohup.out &"
   ]
  },
  {
   "cell_type": "code",
   "execution_count": null,
   "metadata": {},
   "outputs": [],
   "source": [
    " nohup canu -p single_cosmid -d /nasdata/Neev/simlord/canu_test_output/single_cosmid genomeSize=4.8m gnuplotTested=true -pacbio-raw /nasdata/Neev/simlord/sim/sim_cosmids/single_cosmid_SIM.fastq > canu_conda_single_nohup.out"
   ]
  },
  {
   "cell_type": "code",
   "execution_count": null,
   "metadata": {},
   "outputs": [],
   "source": [
    "nohup canu -p 3_cosmid -d /nasdata/Neev/simlord/canu_test_output/3_cosmids genomeSize=4.8m gnuplotTested=true -pacbio-raw /nasdata/Neev/simlord/sim/sim_cosmids/3_cosmids.fastq.fastq > canu_conda_three_nohup.out"
   ]
  },
  {
   "cell_type": "code",
   "execution_count": null,
   "metadata": {},
   "outputs": [],
   "source": [
    " nohup canu -p insert_cosmid -d /nasdata/Neev/simlord/canu_test_output/insert_cosmid genomeSize=4.8m gnuplotTested=true -pacbio-raw /nasdata/Neev/simlord/sim/sim_cosmids/all_reads_clipped_vector.fq > canu_conda_insert_nohup.out"
   ]
  },
  {
   "cell_type": "markdown",
   "metadata": {},
   "source": [
    "| This | is   |\n",
    "|------|------|\n",
    "|   a  | table|\n",
    "|\n",
    "|"
   ]
  },
  {
   "cell_type": "code",
   "execution_count": null,
   "metadata": {},
   "outputs": [],
   "source": []
  }
 ],
 "metadata": {
  "kernelspec": {
   "display_name": "Python 3",
   "language": "python",
   "name": "python3"
  },
  "language_info": {
   "codemirror_mode": {
    "name": "ipython",
    "version": 3
   },
   "file_extension": ".py",
   "mimetype": "text/x-python",
   "name": "python",
   "nbconvert_exporter": "python",
   "pygments_lexer": "ipython3",
   "version": "3.7.1"
  }
 },
 "nbformat": 4,
 "nbformat_minor": 2
}
