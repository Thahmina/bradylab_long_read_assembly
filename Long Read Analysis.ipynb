{
 "cells": [
  {
   "cell_type": "markdown",
   "metadata": {},
   "source": [
    "# Long Read Analysis:"
   ]
  },
  {
   "cell_type": "markdown",
   "metadata": {},
   "source": [
    "## Activate conda environment:"
   ]
  },
  {
   "cell_type": "code",
   "execution_count": null,
   "metadata": {},
   "outputs": [],
   "source": [
    "conda activate long-read-assembly # activate "
   ]
  },
  {
   "cell_type": "markdown",
   "metadata": {},
   "source": [
    "If the above doesn't work, try the following:"
   ]
  },
  {
   "cell_type": "code",
   "execution_count": null,
   "metadata": {},
   "outputs": [],
   "source": [
    "conda activate long-read-assembly # activate \n",
    "\n",
    "[tali01@bradysaurus ~]$ conda activate /home/tali01/anaconda3/envs/long-read-assembly/ #ggg\n",
    "(long-read-assembly) [tali01@bradysaurus ~]$ # ss"
   ]
  },
  {
   "cell_type": "markdown",
   "metadata": {},
   "source": [
    "## Test tools in conda environment:"
   ]
  },
  {
   "cell_type": "code",
   "execution_count": null,
   "metadata": {},
   "outputs": [],
   "source": [
    "(long-read-assembly) [tali01@bradysaurus ~]$  canu ## call canu\n",
    "\n",
    "usage: canu [-correct | -trim | -assemble | -trim-assemble] \\\n",
    "            [-s <assembly-specifications-file>] \\\n",
    "             -p <assembly-prefix> \\\n",
    "             -d <assembly-directory> \\\n",
    "             genomeSize=<number>[g|m|k] \\\n",
    "             errorRate=0.X \\\n",
    "            [other-options] \\\n",
    "            [-pacbio-raw | -pacbio-corrected | -nanopore-raw | -nanopore-corrected] *fastq"
   ]
  },
  {
   "cell_type": "markdown",
   "metadata": {},
   "source": [
    "## Run tools in conda environment"
   ]
  },
  {
   "cell_type": "code",
   "execution_count": null,
   "metadata": {},
   "outputs": [],
   "source": [
    "nohup canu  -p ecoli -d /nasdata/Neev/simlord/sim/canu_test_output/ecoli-pacbio  genomeSize=4.8m gnuplotTested=true  -pacbio-raw /nasdata/Neev/simlord/tool_sample_data/canu/pacbio.fastq > canu_conda_sample_nohup.out &"
   ]
  },
  {
   "cell_type": "code",
   "execution_count": null,
   "metadata": {},
   "outputs": [],
   "source": [
    " nohup canu -p single_cosmid -d /nasdata/Neev/simlord/canu_test_output/single_cosmid genomeSize=4.8m gnuplotTested=true -pacbio-raw /nasdata/Neev/simlord/sim/sim_cosmids/single_cosmid_SIM.fastq > canu_conda_single_nohup.out"
   ]
  },
  {
   "cell_type": "code",
   "execution_count": null,
   "metadata": {},
   "outputs": [],
   "source": [
    "nohup canu -p 3_cosmid -d /nasdata/Neev/simlord/canu_test_output/3_cosmids genomeSize=4.8m gnuplotTested=true -pacbio-raw /nasdata/Neev/simlord/sim/sim_cosmids/3_cosmids.fastq.fastq > canu_conda_three_nohup.out"
   ]
  },
  {
   "cell_type": "code",
   "execution_count": null,
   "metadata": {},
   "outputs": [],
   "source": [
    " nohup canu -p insert_cosmid -d /nasdata/Neev/simlord/canu_test_output/insert_cosmid genomeSize=4.8m gnuplotTested=true -pacbio-raw /nasdata/Neev/simlord/sim/sim_cosmids/all_reads_clipped_vector.fq > canu_conda_insert_nohup.out"
   ]
  },
  {
   "cell_type": "markdown",
   "metadata": {},
   "source": [
    "## Parallelizing tool runs in conda environment"
   ]
  },
  {
   "cell_type": "code",
   "execution_count": null,
   "metadata": {},
   "outputs": [],
   "source": [
    "(long-read-assembly) [tali01@bradysaurus sim_cosmids]$ ls *.fastq\n",
    "3_cosmids.fastq  all_reads_clipped_vector.fastq  single_cosmid_SIM.fastq"
   ]
  },
  {
   "cell_type": "code",
   "execution_count": null,
   "metadata": {},
   "outputs": [],
   "source": [
    "(long-read-assembly) [tali01@bradysaurus sim_cosmids]$ ls *fastq | awk 'BEGIN {FS=\".fastq\"} ; {print \"nohup canu  -p \"$1\" -d /nasdata/Neev/simlord/canu_test_output/canu_test_parallelize/\"$1\"  genomeSize=4.8m gnuplotTested=true  -pacbio-raw /nasdata/Neev/simlord/sim/sim_cosmids/\"$0\" > /home/tali01/parallelize/canu_conda_\"$1\"_nohup.out &\"}'\n",
    "nohup canu  -p 3_cosmids -d /nasdata/Neev/simlord/canu_test_output/canu_test_parallelize/3_cosmids  genomeSize=4.8m gnuplotTested=true  -pacbio-raw /nasdata/Neev/simlord/sim/sim_cosmids/3_cosmids.fastq > /home/tali01/parallelize/canu_conda_3_cosmids_nohup.out &\n",
    "nohup canu  -p all_reads_clipped_vector -d /nasdata/Neev/simlord/canu_test_output/canu_test_parallelize/all_reads_clipped_vector  genomeSize=4.8m gnuplotTested=true  -pacbio-raw /nasdata/Neev/simlord/sim/sim_cosmids/all_reads_clipped_vector.fastq > /home/tali01/parallelize/canu_conda_all_reads_clipped_vector_nohup.out &\n",
    "nohup canu  -p single_cosmid_SIM -d /nasdata/Neev/simlord/canu_test_output/canu_test_parallelize/single_cosmid_SIM  genomeSize=4.8m gnuplotTested=true  -pacbio-raw /nasdata/Neev/simlord/sim/sim_cosmids/single_cosmid_SIM.fastq > /home/tali01/parallelize/canu_conda_single_cosmid_SIM_nohup.out &"
   ]
  },
  {
   "cell_type": "code",
   "execution_count": null,
   "metadata": {},
   "outputs": [],
   "source": [
    "ls *fastq | awk 'BEGIN {FS=\".fastq\"} ; {print \"nohup canu  -p \"$1\" -d /nasdata/Neev/simlord/canu_test_output/canu_test_parallelize/\"$1\"  genomeSize=4.8m gnuplotTested=true  -pacbio-raw /nasdata/Neev/simlord/sim/sim_cosmids/\"$0\" > /home/tali01/parallelize/canu_conda_\"$1\"_nohup.out &\"}' > sim_parallel\n",
    "(long-read-assembly) [tali01@bradysaurus sim_cosmids]$ sh sim_parallel"
   ]
  },
  {
   "cell_type": "markdown",
   "metadata": {},
   "source": [
    "## Runtimes"
   ]
  },
  {
   "cell_type": "markdown",
   "metadata": {},
   "source": [
    "<h2 style='padding: 10px'>Runtimes</h2><table class='table table-striped'> <thead> <tr>  <th></th>  <th>Username</th> </tr> </thead><thead> <tr> <th>#</th> <th>First Name</th> <th>Last Name</th> <th>Username</th> </tr> </thead> <tbody> <tr> <th scope='row'>1</th> <td>Mark</td> <td>Otto</td> <td>@mdo</td> </tr> <tr> <th scope='row'>2</th> <td>Jacob</td> <td>Thornton</td> <td>@fat</td> </tr> <tr> <th scope='row'>3</th> <td>Larry</td> <td>the Bird</td> <td>@twitter</td> </tr> </tbody> </table>\n"
   ]
  },
  {
   "cell_type": "code",
   "execution_count": null,
   "metadata": {},
   "outputs": [],
   "source": []
  }
 ],
 "metadata": {
  "kernelspec": {
   "display_name": "Python 3",
   "language": "python",
   "name": "python3"
  },
  "language_info": {
   "codemirror_mode": {
    "name": "ipython",
    "version": 3
   },
   "file_extension": ".py",
   "mimetype": "text/x-python",
   "name": "python",
   "nbconvert_exporter": "python",
   "pygments_lexer": "ipython3",
   "version": "3.7.1"
  }
 },
 "nbformat": 4,
 "nbformat_minor": 2
}
